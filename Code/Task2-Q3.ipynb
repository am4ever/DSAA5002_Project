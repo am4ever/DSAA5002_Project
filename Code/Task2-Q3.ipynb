{
 "cells": [
  {
   "cell_type": "code",
   "execution_count": 12,
   "metadata": {},
   "outputs": [
    {
     "name": "stdout",
     "output_type": "stream",
     "text": [
      "Requirement already satisfied: py2neo in c:\\users\\thinkpad\\appdata\\roaming\\python\\python37\\site-packages (2021.2.4)\n",
      "Requirement already satisfied: certifi in c:\\users\\thinkpad\\appdata\\roaming\\python\\python37\\site-packages (from py2neo) (2023.7.22)\n",
      "Requirement already satisfied: interchange~=2021.0.4 in c:\\users\\thinkpad\\appdata\\roaming\\python\\python37\\site-packages (from py2neo) (2021.0.4)\n",
      "Requirement already satisfied: monotonic in c:\\programdata\\anaconda3\\lib\\site-packages (from py2neo) (1.6)\n",
      "Requirement already satisfied: packaging in c:\\users\\thinkpad\\appdata\\roaming\\python\\python37\\site-packages (from py2neo) (23.1)\n",
      "Requirement already satisfied: pansi>=2020.7.3 in c:\\users\\thinkpad\\appdata\\roaming\\python\\python37\\site-packages (from py2neo) (2020.7.3)\n",
      "Requirement already satisfied: pygments>=2.0.0 in c:\\programdata\\anaconda3\\lib\\site-packages (from py2neo) (2.4.2)\n",
      "Requirement already satisfied: six>=1.15.0 in c:\\users\\thinkpad\\appdata\\roaming\\python\\python37\\site-packages (from py2neo) (1.16.0)\n",
      "Requirement already satisfied: urllib3 in c:\\users\\thinkpad\\appdata\\roaming\\python\\python37\\site-packages (from py2neo) (1.25.11)\n",
      "Requirement already satisfied: pytz in c:\\programdata\\anaconda3\\lib\\site-packages (from interchange~=2021.0.4->py2neo) (2019.3)\n"
     ]
    },
    {
     "name": "stderr",
     "output_type": "stream",
     "text": [
      "WARNING: Ignoring invalid distribution - (c:\\programdata\\anaconda3\\lib\\site-packages)\n",
      "WARNING: Ignoring invalid distribution -ikit-learn (c:\\programdata\\anaconda3\\lib\\site-packages)\n",
      "WARNING: Ignoring invalid distribution -arkupsafe (c:\\programdata\\anaconda3\\lib\\site-packages)\n",
      "WARNING: Ignoring invalid distribution -cikit-learn (c:\\programdata\\anaconda3\\lib\\site-packages)\n",
      "WARNING: Ignoring invalid distribution -okeh (c:\\programdata\\anaconda3\\lib\\site-packages)\n",
      "WARNING: Ignoring invalid distribution -ikit-learn (c:\\programdata\\anaconda3\\lib\\site-packages)\n",
      "WARNING: Ignoring invalid distribution - (c:\\programdata\\anaconda3\\lib\\site-packages)\n",
      "WARNING: Ignoring invalid distribution -ikit-learn (c:\\programdata\\anaconda3\\lib\\site-packages)\n",
      "WARNING: Ignoring invalid distribution -arkupsafe (c:\\programdata\\anaconda3\\lib\\site-packages)\n",
      "WARNING: Ignoring invalid distribution -cikit-learn (c:\\programdata\\anaconda3\\lib\\site-packages)\n",
      "WARNING: Ignoring invalid distribution -okeh (c:\\programdata\\anaconda3\\lib\\site-packages)\n",
      "WARNING: Ignoring invalid distribution -ikit-learn (c:\\programdata\\anaconda3\\lib\\site-packages)\n",
      "\n",
      "[notice] A new release of pip is available: 23.2.1 -> 23.3.1\n",
      "[notice] To update, run: python.exe -m pip install --upgrade pip\n"
     ]
    }
   ],
   "source": [
    "!python -m pip install --user py2neo"
   ]
  },
  {
   "cell_type": "code",
   "execution_count": 1,
   "metadata": {},
   "outputs": [],
   "source": [
    "from py2neo import Graph\n",
    "# Connect to the Neo4j Database\n",
    "graph = Graph(\"bolt://localhost:7687\", user=\"neo4j\", password=\"asd123456\")"
   ]
  },
  {
   "cell_type": "code",
   "execution_count": null,
   "metadata": {},
   "outputs": [
    {
     "data": {
      "text/html": [
       "(No data)"
      ],
      "text/plain": [
       "(No data)"
      ]
     },
     "execution_count": 6,
     "metadata": {},
     "output_type": "execute_result"
    }
   ],
   "source": [
    "# Reset database (For error correction)\n",
    "graph.run(\"\"\"\n",
    "MATCH (n:Company)\n",
    "DETACH DELETE n\n",
    "\"\"\")"
   ]
  },
  {
   "cell_type": "code",
   "execution_count": 7,
   "metadata": {},
   "outputs": [
    {
     "data": {
      "text/html": [
       "(No data)"
      ],
      "text/plain": [
       "(No data)"
      ]
     },
     "execution_count": 7,
     "metadata": {},
     "output_type": "execute_result"
    }
   ],
   "source": [
    "# Import Company Node\n",
    "graph.run(\"\"\"\n",
    "LOAD CSV FROM 'file:///hidy.nodes.company.csv' AS row\n",
    "WITH row\n",
    "SKIP 1\n",
    "CREATE (:Company {id: row[0], name: row[1], code: row[2]})\n",
    "\"\"\")"
   ]
  },
  {
   "cell_type": "code",
   "execution_count": 8,
   "metadata": {},
   "outputs": [],
   "source": [
    "# Import relationships\n",
    "relationships = ['compete', 'cooperate', 'dispute', 'invest', 'same_industry', 'supply']\n",
    "for rel in relationships:\n",
    "    query = \"\"\"\n",
    "    LOAD CSV FROM 'file:///hidy.relationships.{rel}.csv' AS row\n",
    "    WITH row\n",
    "    SKIP 1\n",
    "    MATCH (start:Company {{id: row[0]}})\n",
    "    MATCH (end:Company {{id: row[1]}})\n",
    "    MERGE (start)-[r:{rel_type}]->(end)\n",
    "    \"\"\".format(rel=rel, rel_type=rel.upper())\n",
    "    graph.run(query)"
   ]
  },
  {
   "cell_type": "code",
   "execution_count": 11,
   "metadata": {},
   "outputs": [
    {
     "name": "stdout",
     "output_type": "stream",
     "text": [
      "Number of nodes: 3974\n",
      "Number of compete relationships: 25\n",
      "Number of cooperate relationships: 3402\n",
      "Number of dispute relationships: 427\n",
      "Number of invest relationships: 542\n",
      "Number of same_industry relationships: 5273\n",
      "Number of supply relationships: 1375\n"
     ]
    }
   ],
   "source": [
    "# Query the number of nodes and relationships\n",
    "nodes_count = graph.run(\"MATCH (n:Company) RETURN count(n) AS count\").data()\n",
    "print(f\"Number of nodes: {nodes_count[0]['count']}\")\n",
    "\n",
    "for rel in relationships:\n",
    "    rel_count = graph.run(f\"MATCH ()-[:{rel.upper()}]->() RETURN count(*) AS count\").data()\n",
    "    print(f\"Number of {rel} relationships: {rel_count[0]['count']}\")\n"
   ]
  },
  {
   "cell_type": "code",
   "execution_count": null,
   "metadata": {},
   "outputs": [],
   "source": []
  }
 ],
 "metadata": {
  "kernelspec": {
   "display_name": "Python 3",
   "language": "python",
   "name": "python3"
  },
  "language_info": {
   "codemirror_mode": {
    "name": "ipython",
    "version": 3
   },
   "file_extension": ".py",
   "mimetype": "text/x-python",
   "name": "python",
   "nbconvert_exporter": "python",
   "pygments_lexer": "ipython3",
   "version": "3.7.4"
  }
 },
 "nbformat": 4,
 "nbformat_minor": 2
}
