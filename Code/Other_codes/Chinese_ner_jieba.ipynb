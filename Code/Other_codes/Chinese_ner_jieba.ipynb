{
  "nbformat": 4,
  "nbformat_minor": 0,
  "metadata": {
    "colab": {
      "provenance": []
    },
    "kernelspec": {
      "name": "python3",
      "display_name": "Python 3"
    },
    "language_info": {
      "name": "python"
    }
  },
  "cells": [
    {
      "cell_type": "markdown",
      "source": [
        "This code mainly tests the noun recognition ability of the jieba library. It is found that while it can recognize some correct nouns, the presence of too many errors makes it unusable."
      ],
      "metadata": {
        "id": "alFDGtlCnbdl"
      }
    },
    {
      "cell_type": "code",
      "source": [
        "import jieba\n",
        "import jieba.posseg as pseg\n",
        "\n",
        "# 需要分析的文本\n",
        "text = \"　　全景网11月30日讯 外围股市造好，带动港股今早造好，恒指高开后反覆上升，最高升252点，曾一度升越19000关口，其后升幅收窄，午后开盘围绕万九关争持，今日波幅介乎18923.63点至19033.40点。最终恒生指数全日收市报18960.48点，升179.55点，成交466.67亿港元；蓝筹普遍向好，且油价上涨带动国企指数全日升144.34点，报8546.60点。    　　有分析师表示，美国经济温和增长，加强投资者信心，中资金融股回升至调整前水平，看好后市表现，恒生指数于19200点有阻力，支持位则在18800点。    　　蓝筹股普遍造好，中移动(0941-HK)升1.71%；汇控(0005-HK)升0.48%；和黄(0013-HK)升1.03%；地产股继续昨日升势，长实(0001-HK)升0.82%、信置(0083-HK)升1.24%、恒地(0012-HK)涨0.81%、新地(0016-HK)上升0.57%、恒隆地产(0101-HK)升2.24%，新世界发展(0017-HK)收盘前股价突跌并回吐之前升幅最终跌0.14%。    　　中资金融股普遍先升后回，建行(0939-HK)、工行(1398-HK)及交行(3328-HK)全日升幅均不足1%，下周一染蓝的中行(3988-HK)升1.07%，招行(3968-HK)升幅最大，涨1.76%。    　　三只中资保险股今日表现向好，国寿(2628-HK)升1.39%，平保(2318-HK)升2.40%，中国财险(2328-HK)升逾1.66%。\"\n",
        "\n",
        "# 使用jieba的词性标注功能\n",
        "words = pseg.cut(text, HMM=True)\n",
        "\n",
        "# 提取名词\n",
        "nouns = [word for word, flag in words if flag.startswith('n')]\n",
        "\n",
        "print(nouns)\n"
      ],
      "metadata": {
        "colab": {
          "base_uri": "https://localhost:8080/"
        },
        "id": "csdb31gk4eUx",
        "outputId": "52deb93e-7a87-457d-905d-7f1fa6e6c6ab"
      },
      "execution_count": null,
      "outputs": [
        {
          "output_type": "stream",
          "name": "stdout",
          "text": [
            "['全景网', '日讯', '股市', '港股', '恒指', '高开后', '关口', '升幅', '关', '波幅', '恒生指数', '收市报', '油价', '指数', '报', '分析师', '美国', '经济', '投资者', '信心', '中资', '金融股', '水平', '后市', '恒生指数', '阻力', '位则', '蓝筹股', '黄', '地产股', '升势', '信置', '涨', '恒隆', '地产', '新世界', '收盘', '股价', '升幅', '中资', '金融股', '升幅', '升幅', '涨', '中资', '保险', '国寿', '平保', '中国', '财险']\n"
          ]
        }
      ]
    }
  ]
}