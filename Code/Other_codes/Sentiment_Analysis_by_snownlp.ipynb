{
  "nbformat": 4,
  "nbformat_minor": 0,
  "metadata": {
    "colab": {
      "provenance": [],
      "gpuType": "V100"
    },
    "kernelspec": {
      "name": "python3",
      "display_name": "Python 3"
    },
    "language_info": {
      "name": "python"
    },
    "accelerator": "GPU"
  },
  "cells": [
    {
      "cell_type": "markdown",
      "source": [
        "This code is a test of the effect of the SnowNLP model and is divided into two parts, Part1 and Part2.Part1 is the result of the test using SnowNLP directly, and Part2 is the result of the test after fine-tuning using the labeled dataset. In order to ensure a consistent standard of comparison, the random number seed when cutting the dataset is set to 0 and the threshold is tuned to 0.1."
      ],
      "metadata": {
        "id": "qTjASABZiZ-S"
      }
    },
    {
      "cell_type": "code",
      "source": [
        "!pip install snownlp\n",
        "!pip install pandas\n",
        "!pip install openpyxl"
      ],
      "metadata": {
        "colab": {
          "base_uri": "https://localhost:8080/"
        },
        "id": "8tntFF8uhPwo",
        "outputId": "7ec96854-be00-495b-f476-830f0fdfd553"
      },
      "execution_count": null,
      "outputs": [
        {
          "output_type": "stream",
          "name": "stdout",
          "text": [
            "Collecting snownlp\n",
            "  Downloading snownlp-0.12.3.tar.gz (37.6 MB)\n",
            "\u001b[2K     \u001b[90m━━━━━━━━━━━━━━━━━━━━━━━━━━━━━━━━━━━━━━━━\u001b[0m \u001b[32m37.6/37.6 MB\u001b[0m \u001b[31m27.0 MB/s\u001b[0m eta \u001b[36m0:00:00\u001b[0m\n",
            "\u001b[?25h  Preparing metadata (setup.py) ... \u001b[?25l\u001b[?25hdone\n",
            "Building wheels for collected packages: snownlp\n",
            "  Building wheel for snownlp (setup.py) ... \u001b[?25l\u001b[?25hdone\n",
            "  Created wheel for snownlp: filename=snownlp-0.12.3-py3-none-any.whl size=37760944 sha256=8f2ef579a31521a3f057e757f555d1010851bc79695c2984187a413a666b1398\n",
            "  Stored in directory: /root/.cache/pip/wheels/43/f3/70/8990fc249efeb396007766676706f71dd3d1ca3c023ce522ce\n",
            "Successfully built snownlp\n",
            "Installing collected packages: snownlp\n",
            "Successfully installed snownlp-0.12.3\n",
            "Requirement already satisfied: pandas in /usr/local/lib/python3.10/dist-packages (1.5.3)\n",
            "Requirement already satisfied: python-dateutil>=2.8.1 in /usr/local/lib/python3.10/dist-packages (from pandas) (2.8.2)\n",
            "Requirement already satisfied: pytz>=2020.1 in /usr/local/lib/python3.10/dist-packages (from pandas) (2023.3.post1)\n",
            "Requirement already satisfied: numpy>=1.21.0 in /usr/local/lib/python3.10/dist-packages (from pandas) (1.23.5)\n",
            "Requirement already satisfied: six>=1.5 in /usr/local/lib/python3.10/dist-packages (from python-dateutil>=2.8.1->pandas) (1.16.0)\n",
            "Requirement already satisfied: openpyxl in /usr/local/lib/python3.10/dist-packages (3.1.2)\n",
            "Requirement already satisfied: et-xmlfile in /usr/local/lib/python3.10/dist-packages (from openpyxl) (1.1.0)\n"
          ]
        }
      ]
    },
    {
      "cell_type": "markdown",
      "source": [
        "#Part1"
      ],
      "metadata": {
        "id": "n1U5i6I8ic48"
      }
    },
    {
      "cell_type": "code",
      "source": [
        "import pandas as pd\n",
        "from snownlp import SnowNLP\n",
        "from sklearn.model_selection import train_test_split\n",
        "\n",
        "file_name = \"/content/labelnews.xlsx\"\n",
        "df = pd.read_excel(file_name)\n",
        "\n",
        "train_data, test_data = train_test_split(df, test_size=0.3, random_state=0)\n",
        "\n",
        "correct = 0\n",
        "total = len(test_data)\n",
        "for index, row in test_data.iterrows():\n",
        "    text = row['NewsContent']\n",
        "    label = row['label']\n",
        "    prediction = SnowNLP(text).sentiments\n",
        "    predicted_label = 1 if prediction > 0.1 else 0\n",
        "    if predicted_label == label:\n",
        "        correct += 1\n",
        "\n",
        "accuracy = correct / total\n",
        "print(f'Accuracy: {accuracy}')\n"
      ],
      "metadata": {
        "colab": {
          "base_uri": "https://localhost:8080/"
        },
        "id": "KuubI7scjAyg",
        "outputId": "34380180-7c7e-427f-a5f4-f16f28401759"
      },
      "execution_count": null,
      "outputs": [
        {
          "output_type": "stream",
          "name": "stdout",
          "text": [
            "Accuracy: 0.7982456140350878\n"
          ]
        }
      ]
    },
    {
      "cell_type": "markdown",
      "source": [
        "#Part2"
      ],
      "metadata": {
        "id": "E_v8ASMeifpu"
      }
    },
    {
      "cell_type": "code",
      "source": [
        "import pandas as pd\n",
        "from snownlp import sentiment\n",
        "from sklearn.model_selection import train_test_split\n",
        "\n",
        "file_name = \"/content/labelnews.xlsx\"\n",
        "df = pd.read_excel(file_name)\n",
        "\n",
        "train_data, test_data = train_test_split(df, test_size=0.3, random_state=0)\n",
        "\n",
        "# Extracting text and tags from the training set and fine-tuning with the training set\n",
        "train_texts = train_data['NewsContent'].tolist()\n",
        "train_labels = train_data['label'].tolist()\n",
        "\n",
        "with open('positive.txt', 'w', encoding='utf-8') as pos_file, \\\n",
        "     open('negative.txt', 'w', encoding='utf-8') as neg_file:\n",
        "    for text, label in zip(train_texts, train_labels):\n",
        "        if label == 1:\n",
        "            pos_file.write(text + '\\n')\n",
        "        else:\n",
        "            neg_file.write(text + '\\n')\n",
        "\n",
        "sentiment.train('negative.txt', 'positive.txt')\n",
        "sentiment.save('sentiment.marshal')"
      ],
      "metadata": {
        "id": "nZlrTTBrhTZm"
      },
      "execution_count": null,
      "outputs": []
    },
    {
      "cell_type": "code",
      "source": [
        "# Using the trained model\n",
        "sentiment.load('sentiment.marshal')\n",
        "\n",
        "correct = 0\n",
        "total = len(test_data)\n",
        "for index, row in test_data.iterrows():\n",
        "    text = row['NewsContent']\n",
        "    label = row['label']\n",
        "    prediction = SnowNLP(text).sentiments\n",
        "    predicted_label = 1 if prediction > 0.1 else 0\n",
        "    if predicted_label == label:\n",
        "        correct += 1\n",
        "\n",
        "accuracy = correct / total\n",
        "print(f'Accuracy: {accuracy}')"
      ],
      "metadata": {
        "colab": {
          "base_uri": "https://localhost:8080/"
        },
        "id": "uWEKoy6PiEMW",
        "outputId": "270db64e-c79a-4ea7-e6e4-d5c951875cf5"
      },
      "execution_count": null,
      "outputs": [
        {
          "output_type": "stream",
          "name": "stdout",
          "text": [
            "Accuracy: 0.24561403508771928\n"
          ]
        }
      ]
    }
  ]
}